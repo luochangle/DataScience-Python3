{
 "cells": [
  {
   "cell_type": "markdown",
   "metadata": {
    "deletable": true,
    "editable": true
   },
   "source": [
    "# Train / Test"
   ]
  },
  {
   "cell_type": "markdown",
   "metadata": {
    "deletable": true,
    "editable": true
   },
   "source": [
    "We'll start by creating some data set that we want to build a model for (in this case a polynomial regression):"
   ]
  },
  {
   "cell_type": "code",
   "execution_count": 1,
   "metadata": {
    "collapsed": false,
    "deletable": true,
    "editable": true
   },
   "outputs": [
    {
     "data": {
      "text/plain": [
       "<matplotlib.collections.PathCollection at 0x24efec50908>"
      ]
     },
     "execution_count": 1,
     "metadata": {},
     "output_type": "execute_result"
    },
    {
     "data": {
      "image/png": "[encoded data removed]",
      "text/plain": [
       "<matplotlib.figure.Figure at 0x24efcb7ccf8>"
      ]
     },
     "metadata": {},
     "output_type": "display_data"
    }
   ],
   "source": [
    "%matplotlib inline\n",
    "import numpy as np\n",
    "from pylab import *\n",
    "\n",
    "np.random.seed(2)\n",
    "\n",
    "pageSpeeds = np.random.normal(3.0, 1.0, 100)\n",
    "purchaseAmount = np.random.normal(50.0, 30.0, 100) / pageSpeeds\n",
    "\n",
    "\n",
    "scatter(pageSpeeds, purchaseAmount)"
   ]
  },
  {
   "cell_type": "code",
   "execution_count": 2,
   "metadata": {
    "collapsed": false
   },
   "outputs": [
    {
     "data": {
      "text/plain": [
       "array([2.58324215, 2.94373317, 0.8638039 , 4.64027081, 1.20656441,\n",
       "       2.15825263, 3.50288142, 1.75471191, 1.94204778, 2.09099239,\n",
       "       3.55145404, 5.29220801, 3.04153939, 1.88207455, 3.53905832,\n",
       "       2.4038403 , 2.9808695 , 4.17500122, 2.25212905, 3.00902525,\n",
       "       2.12189211, 2.84356583, 3.25657045, 2.01122095, 2.66117803,\n",
       "       2.76381597, 2.36234499, 1.81238771, 1.57878277, 2.8465048 ,\n",
       "       2.73094304, 5.23136679, 0.56523242, 3.1127265 , 3.37044454,\n",
       "       4.35963386, 3.50185721, 2.1557863 , 3.00000976, 3.54235257,\n",
       "       2.6864918 , 3.77101174, 1.13190935, 4.73118467, 4.46767801,\n",
       "       2.66432266, 3.61134078, 3.04797059, 2.17086471, 3.08771022,\n",
       "       4.00036589, 2.61890748, 2.62433058, 2.92552924, 3.43349633,\n",
       "       4.27837923, 2.36532069, 3.50839624, 3.21611601, 1.14138761,\n",
       "       2.58068352, 2.8676711 , 2.96042976, 3.32600343, 0.95967695,\n",
       "       3.04625552, 2.32232442, 1.56056097, 3.52429643, 3.73527958,\n",
       "       2.34674973, 3.84245628, 2.61848352, 3.06648901, 1.90126105,\n",
       "       4.58448706, 0.34055054, 2.90854738, 3.69511961, 0.96653345,\n",
       "       2.81053074, 2.92278133, 3.82470301, 4.24821292, 2.59610773,\n",
       "       1.61548133, 4.36723542, 4.21788563, 2.53799465, 3.35088849,\n",
       "       3.38186623, 3.56627544, 3.20420798, 4.40669624, 1.2620405 ,\n",
       "       4.04082395, 3.38047197, 2.78286473, 4.1735315 , 0.65639681])"
      ]
     },
     "execution_count": 2,
     "metadata": {},
     "output_type": "execute_result"
    }
   ],
   "source": [
    "pageSpeeds"
   ]
  },
  {
   "cell_type": "code",
   "execution_count": 3,
   "metadata": {
    "collapsed": false
   },
   "outputs": [
    {
     "data": {
      "text/plain": [
       "array([ 32.84463465,  20.91981094,  18.52967058,  13.57523714,\n",
       "        33.8791749 ,  59.10283347,  29.99244598,  36.02910295,\n",
       "        14.63526543,  15.54169321,  11.3329669 ,   6.27204462,\n",
       "         7.53980633,  17.14641519,  11.78692507,  14.34932395,\n",
       "         9.74289598,   5.30137384,  56.17491015,   1.92913056,\n",
       "         9.12278151,  22.14538885,  12.3727088 ,  31.1824224 ,\n",
       "        27.7979898 ,  31.79604246,  30.71479647,  11.13843928,\n",
       "        52.74588745,  -1.03549161,  17.05175114,   6.7008825 ,\n",
       "        32.15673439,  21.76548293,  13.2036894 ,  18.48679142,\n",
       "         1.57802998,  34.97070043,  21.64599772,  15.18627075,\n",
       "         2.76780426,  11.25607115,   3.18025615,  -2.63772373,\n",
       "        33.21465013,  29.69829471,  28.73663603,  12.18174498,\n",
       "        32.65331968,  22.96928246,  17.00981269,  19.13385068,\n",
       "        16.44326886,  -4.13202771,  19.89351845,  14.6562293 ,\n",
       "        35.31724142,  11.90650498,  31.79436483,  32.04430578,\n",
       "         4.78058753,  27.2503043 ,  12.14337617,   3.71568792,\n",
       "        56.00291777,  23.86374476,  24.64909222,  41.60219984,\n",
       "        49.16180638,  19.98073365,  40.88753401,  -2.49199275,\n",
       "        23.27744478,  23.87827277,  20.54721901,   5.17410462,\n",
       "       181.75159582,  13.94561328,   8.71076879,  87.41033918,\n",
       "        32.04625515,  20.21323983,   9.51006243,  15.4020344 ,\n",
       "        28.8446246 ,  42.6613775 ,   1.46524492,   9.45010608,\n",
       "        23.94567692,  20.4920613 ,  23.3076807 ,  20.39974523,\n",
       "         4.98421002,   6.53037373,  10.58375313,  25.77056077,\n",
       "        16.39188098,  23.93035043,  19.405837  ,  61.13668807])"
      ]
     },
     "execution_count": 3,
     "metadata": {},
     "output_type": "execute_result"
    }
   ],
   "source": [
    "purchaseAmount"
   ]
  },
  {
   "cell_type": "code",
   "execution_count": 22,
   "metadata": {
    "collapsed": true
   },
   "outputs": [],
   "source": [
    "split = 80\n",
    "testX = pageSpeeds[0:split]\n",
    "testY = purchaseAmount[0:split]\n",
    "trainX = pageSpeeds[split:] \n",
    "trainY = purchaseAmount[split:]"
   ]
  },
  {
   "cell_type": "code",
   "execution_count": 23,
   "metadata": {
    "collapsed": false
   },
   "outputs": [
    {
     "data": {
      "text/plain": [
       "<matplotlib.collections.PathCollection at 0x24e80eee860>"
      ]
     },
     "execution_count": 23,
     "metadata": {},
     "output_type": "execute_result"
    },
    {
     "data": {
      "image/png": "[encoded data removed]",
      "text/plain": [
       "<matplotlib.figure.Figure at 0x24e800bbcc0>"
      ]
     },
     "metadata": {},
     "output_type": "display_data"
    }
   ],
   "source": [
    "scatter(trainX, trainY)"
   ]
  },
  {
   "cell_type": "code",
   "execution_count": 24,
   "metadata": {
    "collapsed": false
   },
   "outputs": [
    {
     "data": {
      "text/plain": [
       "<matplotlib.collections.PathCollection at 0x24e80f614a8>"
      ]
     },
     "execution_count": 24,
     "metadata": {},
     "output_type": "execute_result"
    },
    {
     "data": {
      "image/png": "[encoded data removed]",
      "text/plain": [
       "<matplotlib.figure.Figure at 0x24e80f12160>"
      ]
     },
     "metadata": {},
     "output_type": "display_data"
    }
   ],
   "source": [
    "scatter(testX, testY)"
   ]
  },
  {
   "cell_type": "markdown",
   "metadata": {
    "deletable": true,
    "editable": true
   },
   "source": [
    "Now we'll try to fit an 8th-degree polynomial to this data (which is almost certainly overfitting, given what we know about how it was generated!)"
   ]
  },
  {
   "cell_type": "code",
   "execution_count": 33,
   "metadata": {
    "collapsed": false,
    "deletable": true,
    "editable": true
   },
   "outputs": [
    {
     "name": "stdout",
     "output_type": "stream",
     "text": [
      "0\n",
      "-0.010547055394157123\n",
      "0.0\n",
      "1\n",
      "0.24879413997582833\n",
      "0.4847941805984429\n",
      "2\n",
      "0.28624849230174687\n",
      "0.494919948266211\n",
      "3\n",
      "0.30130790960982323\n",
      "0.5571234115853116\n",
      "4\n",
      "0.3911187767873072\n",
      "0.5837755469973218\n",
      "5\n",
      "-8.85524109637314\n",
      "0.7736018644156544\n",
      "6\n",
      "-0.3742736495601553\n",
      "0.8262502815839093\n",
      "7\n",
      "-40.30952042682306\n",
      "0.8430141870235508\n",
      "8\n",
      "-75.37013480484197\n",
      "0.8499230141195889\n",
      "9\n",
      "-452.6615630550172\n",
      "0.8511700624304737\n",
      "10\n",
      "-695520.0288405145\n",
      "0.9319154617650771\n",
      "11\n",
      "-974402.7237000725\n",
      "0.9326831802612979\n",
      "12\n",
      "-65865114.70364267\n",
      "0.9564670581622313\n",
      "13\n",
      "-38100439.87311749\n",
      "0.9572096942119964\n",
      "14\n",
      "-37195579.959848665\n",
      "0.9570300446276336\n",
      "15\n",
      "-34109663373.74257\n",
      "0.9706555716526378\n",
      "16\n",
      "-17339848959.40603\n",
      "0.9707643699204328\n",
      "17\n",
      "-13240233913.399672\n",
      "0.9707925295838579\n",
      "18\n",
      "-13614345743.734804\n",
      "0.9707967546681522\n",
      "19\n",
      "-12591050388.98433\n",
      "0.9707789686228895\n"
     ]
    },
    {
     "name": "stderr",
     "output_type": "stream",
     "text": [
      "C:\\Users\\schen\\AppData\\Local\\Continuum\\anaconda2\\envs\\ame\\lib\\site-packages\\ipykernel\\__main__.py:5: RankWarning: Polyfit may be poorly conditioned\n",
      "C:\\Users\\schen\\AppData\\Local\\Continuum\\anaconda2\\envs\\ame\\lib\\site-packages\\ipykernel\\__main__.py:5: RankWarning: Polyfit may be poorly conditioned\n",
      "C:\\Users\\schen\\AppData\\Local\\Continuum\\anaconda2\\envs\\ame\\lib\\site-packages\\ipykernel\\__main__.py:5: RankWarning: Polyfit may be poorly conditioned\n",
      "C:\\Users\\schen\\AppData\\Local\\Continuum\\anaconda2\\envs\\ame\\lib\\site-packages\\ipykernel\\__main__.py:5: RankWarning: Polyfit may be poorly conditioned\n",
      "C:\\Users\\schen\\AppData\\Local\\Continuum\\anaconda2\\envs\\ame\\lib\\site-packages\\ipykernel\\__main__.py:5: RankWarning: Polyfit may be poorly conditioned\n",
      "C:\\Users\\schen\\AppData\\Local\\Continuum\\anaconda2\\envs\\ame\\lib\\site-packages\\ipykernel\\__main__.py:5: RankWarning: Polyfit may be poorly conditioned\n"
     ]
    }
   ],
   "source": [
    "x = np.array(trainX)\n",
    "y = np.array(trainY)\n",
    "for i in range(20):\n",
    "    print (i)\n",
    "    p4 = np.poly1d(np.polyfit(x, y, i))\n",
    "    \n",
    "    testx = np.array(testX)\n",
    "    testy = np.array(testY)\n",
    "\n",
    "    from sklearn.metrics import r2_score\n",
    "\n",
    "    r2 = r2_score(testy, p4(testx))\n",
    "\n",
    "    print(r2)\n",
    "\n",
    "    from sklearn.metrics import r2_score\n",
    "\n",
    "    r2 = r2_score(np.array(trainY), p4(np.array(trainX)))\n",
    "\n",
    "    print(r2)"
   ]
  },
  {
   "cell_type": "code",
   "execution_count": 34,
   "metadata": {
    "collapsed": true
   },
   "outputs": [],
   "source": [
    "\n",
    "p4 = np.poly1d(np.polyfit(x, y, 4))\n",
    "\n",
    "testx = np.array(testX)\n",
    "testy = np.array(testY)"
   ]
  },
  {
   "cell_type": "markdown",
   "metadata": {
    "deletable": true,
    "editable": true
   },
   "source": [
    "Let's plot our polynomial against the training data:"
   ]
  },
  {
   "cell_type": "code",
   "execution_count": 35,
   "metadata": {
    "collapsed": false,
    "deletable": true,
    "editable": true
   },
   "outputs": [
    {
     "data": {
      "image/png": "[encoded data removed]",
      "text/plain": [
       "<matplotlib.figure.Figure at 0x24e80f7ea90>"
      ]
     },
     "metadata": {},
     "output_type": "display_data"
    }
   ],
   "source": [
    "import matplotlib.pyplot as plt\n",
    "\n",
    "xp = np.linspace(0, 7, 100)\n",
    "axes = plt.axes()\n",
    "axes.set_xlim([0,7])\n",
    "axes.set_ylim([0, 200])\n",
    "plt.scatter(x, y)\n",
    "plt.plot(xp, p4(xp), c='r')\n",
    "plt.show()\n"
   ]
  },
  {
   "cell_type": "markdown",
   "metadata": {
    "deletable": true,
    "editable": true
   },
   "source": [
    "And against our test data:"
   ]
  },
  {
   "cell_type": "code",
   "execution_count": 36,
   "metadata": {
    "collapsed": false,
    "deletable": true,
    "editable": true
   },
   "outputs": [
    {
     "data": {
      "image/png": "[encoded data removed]",
      "text/plain": [
       "<matplotlib.figure.Figure at 0x24e824a46a0>"
      ]
     },
     "metadata": {},
     "output_type": "display_data"
    }
   ],
   "source": [
    "testx = np.array(testX)\n",
    "testy = np.array(testY)\n",
    "\n",
    "axes = plt.axes()\n",
    "axes.set_xlim([0,7])\n",
    "axes.set_ylim([0, 200])\n",
    "plt.scatter(testx, testy)\n",
    "plt.plot(xp, p4(xp), c='r')\n",
    "plt.show()"
   ]
  },
  {
   "cell_type": "markdown",
   "metadata": {
    "deletable": true,
    "editable": true
   },
   "source": [
    "Doesn't look that bad when you just eyeball it, but the r-squared score on the test data is kind of horrible! This tells us that our model isn't all that great..."
   ]
  },
  {
   "cell_type": "markdown",
   "metadata": {
    "deletable": true,
    "editable": true
   },
   "source": [
    "...even though it fits the training data better:"
   ]
  },
  {
   "cell_type": "markdown",
   "metadata": {
    "deletable": true,
    "editable": true
   },
   "source": [
    "If you're working with a Pandas DataFrame (using tabular, labeled data,) scikit-learn has built-in train_test_split functions to make this easy to do.\n",
    "\n",
    "Later we'll talk about even more robust forms of train/test, like K-fold cross-validation - where we try out multiple different splits of the data, to make sure we didn't just get lucky with where we split it."
   ]
  },
  {
   "cell_type": "markdown",
   "metadata": {
    "deletable": true,
    "editable": true
   },
   "source": [
    "## Activity"
   ]
  },
  {
   "cell_type": "markdown",
   "metadata": {
    "deletable": true,
    "editable": true
   },
   "source": [
    "Try measuring the error on the test data using different degree polynomial fits. What degree works best?"
   ]
  },
  {
   "cell_type": "code",
   "execution_count": null,
   "metadata": {
    "collapsed": false,
    "deletable": true,
    "editable": true
   },
   "outputs": [],
   "source": []
  }
 ],
 "metadata": {
  "anaconda-cloud": {},
  "kernelspec": {
   "display_name": "Python [default]",
   "language": "python",
   "name": "python3"
  },
  "language_info": {
   "codemirror_mode": {
    "name": "ipython",
    "version": 3
   },
   "file_extension": ".py",
   "mimetype": "text/x-python",
   "name": "python",
   "nbconvert_exporter": "python",
   "pygments_lexer": "ipython3",
   "version": "3.5.3"
  }
 },
 "nbformat": 4,
 "nbformat_minor": 0
}
